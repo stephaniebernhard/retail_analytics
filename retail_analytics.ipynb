{
 "cells": [
  {
   "cell_type": "code",
   "execution_count": 1,
   "metadata": {},
   "outputs": [],
   "source": [
    "import findspark\n",
    "\n",
    "findspark.init()"
   ]
  },
  {
   "cell_type": "code",
   "execution_count": 2,
   "metadata": {},
   "outputs": [
    {
     "name": "stdout",
     "output_type": "stream",
     "text": [
      "+-----+\n",
      "|hello|\n",
      "+-----+\n",
      "|spark|\n",
      "+-----+\n",
      "\n"
     ]
    }
   ],
   "source": [
    "import pyspark\n",
    "\n",
    "from pyspark.sql import SparkSession\n",
    "\n",
    "spark = SparkSession.builder.getOrCreate()"
   ]
  },
  {
   "cell_type": "code",
   "execution_count": 9,
   "metadata": {},
   "outputs": [],
   "source": [
    "stores = spark.read.format(\"csv\").option(\"header\", \"true\").load(\"data/stores.csv\")"
   ]
  },
  {
   "cell_type": "code",
   "execution_count": 10,
   "metadata": {},
   "outputs": [
    {
     "name": "stdout",
     "output_type": "stream",
     "text": [
      "+-----+----+------+\n",
      "|Store|Type|  Size|\n",
      "+-----+----+------+\n",
      "|    1|   A|151315|\n",
      "|    2|   A|202307|\n",
      "|    3|   B| 37392|\n",
      "|    4|   A|205863|\n",
      "|    5|   B| 34875|\n",
      "|    6|   A|202505|\n",
      "|    7|   B| 70713|\n",
      "|    8|   A|155078|\n",
      "|    9|   B|125833|\n",
      "|   10|   B|126512|\n",
      "|   11|   A|207499|\n",
      "|   12|   B|112238|\n",
      "|   13|   A|219622|\n",
      "|   14|   A|200898|\n",
      "|   15|   B|123737|\n",
      "|   16|   B| 57197|\n",
      "|   17|   B| 93188|\n",
      "|   18|   B|120653|\n",
      "|   19|   A|203819|\n",
      "|   20|   A|203742|\n",
      "+-----+----+------+\n",
      "only showing top 20 rows\n",
      "\n"
     ]
    }
   ],
   "source": [
    "stores.show()"
   ]
  },
  {
   "cell_type": "code",
   "execution_count": 6,
   "metadata": {},
   "outputs": [],
   "source": [
    "features = spark.read.format(\"csv\").option(\"header\", \"true\").load(\"data/features.csv\")"
   ]
  },
  {
   "cell_type": "code",
   "execution_count": 7,
   "metadata": {},
   "outputs": [
    {
     "name": "stdout",
     "output_type": "stream",
     "text": [
      "+-----+----------+-----------+----------+---------+---------+---------+---------+---------+-----------+------------+---------+\n",
      "|Store|      Date|Temperature|Fuel_Price|MarkDown1|MarkDown2|MarkDown3|MarkDown4|MarkDown5|        CPI|Unemployment|IsHoliday|\n",
      "+-----+----------+-----------+----------+---------+---------+---------+---------+---------+-----------+------------+---------+\n",
      "|    1|05/02/2010|      42.31|     2.572|       NA|       NA|       NA|       NA|       NA|211.0963582|       8.106|    FALSE|\n",
      "|    1|12/02/2010|      38.51|     2.548|       NA|       NA|       NA|       NA|       NA|211.2421698|       8.106|     TRUE|\n",
      "|    1|19/02/2010|      39.93|     2.514|       NA|       NA|       NA|       NA|       NA|211.2891429|       8.106|    FALSE|\n",
      "|    1|26/02/2010|      46.63|     2.561|       NA|       NA|       NA|       NA|       NA|211.3196429|       8.106|    FALSE|\n",
      "|    1|05/03/2010|       46.5|     2.625|       NA|       NA|       NA|       NA|       NA|211.3501429|       8.106|    FALSE|\n",
      "|    1|12/03/2010|      57.79|     2.667|       NA|       NA|       NA|       NA|       NA|211.3806429|       8.106|    FALSE|\n",
      "|    1|19/03/2010|      54.58|      2.72|       NA|       NA|       NA|       NA|       NA| 211.215635|       8.106|    FALSE|\n",
      "|    1|26/03/2010|      51.45|     2.732|       NA|       NA|       NA|       NA|       NA|211.0180424|       8.106|    FALSE|\n",
      "|    1|02/04/2010|      62.27|     2.719|       NA|       NA|       NA|       NA|       NA|210.8204499|       7.808|    FALSE|\n",
      "|    1|09/04/2010|      65.86|      2.77|       NA|       NA|       NA|       NA|       NA|210.6228574|       7.808|    FALSE|\n",
      "|    1|16/04/2010|      66.32|     2.808|       NA|       NA|       NA|       NA|       NA|   210.4887|       7.808|    FALSE|\n",
      "|    1|23/04/2010|      64.84|     2.795|       NA|       NA|       NA|       NA|       NA|210.4391228|       7.808|    FALSE|\n",
      "|    1|30/04/2010|      67.41|      2.78|       NA|       NA|       NA|       NA|       NA|210.3895456|       7.808|    FALSE|\n",
      "|    1|07/05/2010|      72.55|     2.835|       NA|       NA|       NA|       NA|       NA|210.3399684|       7.808|    FALSE|\n",
      "|    1|14/05/2010|      74.78|     2.854|       NA|       NA|       NA|       NA|       NA|210.3374261|       7.808|    FALSE|\n",
      "|    1|21/05/2010|      76.44|     2.826|       NA|       NA|       NA|       NA|       NA|210.6170934|       7.808|    FALSE|\n",
      "|    1|28/05/2010|      80.44|     2.759|       NA|       NA|       NA|       NA|       NA|210.8967606|       7.808|    FALSE|\n",
      "|    1|04/06/2010|      80.69|     2.705|       NA|       NA|       NA|       NA|       NA|211.1764278|       7.808|    FALSE|\n",
      "|    1|11/06/2010|      80.43|     2.668|       NA|       NA|       NA|       NA|       NA|211.4560951|       7.808|    FALSE|\n",
      "|    1|18/06/2010|      84.11|     2.637|       NA|       NA|       NA|       NA|       NA|211.4537719|       7.808|    FALSE|\n",
      "+-----+----------+-----------+----------+---------+---------+---------+---------+---------+-----------+------------+---------+\n",
      "only showing top 20 rows\n",
      "\n"
     ]
    }
   ],
   "source": [
    "features.show()"
   ]
  },
  {
   "cell_type": "code",
   "execution_count": 8,
   "metadata": {},
   "outputs": [
    {
     "name": "stdout",
     "output_type": "stream",
     "text": [
      "root\n",
      " |-- Store: string (nullable = true)\n",
      " |-- Date: string (nullable = true)\n",
      " |-- Temperature: string (nullable = true)\n",
      " |-- Fuel_Price: string (nullable = true)\n",
      " |-- MarkDown1: string (nullable = true)\n",
      " |-- MarkDown2: string (nullable = true)\n",
      " |-- MarkDown3: string (nullable = true)\n",
      " |-- MarkDown4: string (nullable = true)\n",
      " |-- MarkDown5: string (nullable = true)\n",
      " |-- CPI: string (nullable = true)\n",
      " |-- Unemployment: string (nullable = true)\n",
      " |-- IsHoliday: string (nullable = true)\n",
      "\n"
     ]
    }
   ],
   "source": [
    "features.printSchema()"
   ]
  },
  {
   "cell_type": "code",
   "execution_count": 11,
   "metadata": {},
   "outputs": [],
   "source": [
    "sales = spark.read.format(\"csv\").option(\"header\", \"true\").load(\"data/sales.csv\")"
   ]
  },
  {
   "cell_type": "code",
   "execution_count": 12,
   "metadata": {},
   "outputs": [
    {
     "name": "stdout",
     "output_type": "stream",
     "text": [
      "+-----+----+----------+------------+---------+\n",
      "|Store|Dept|      Date|Weekly_Sales|IsHoliday|\n",
      "+-----+----+----------+------------+---------+\n",
      "|    1|   1|05/02/2010|     24924.5|    FALSE|\n",
      "|    1|   1|12/02/2010|    46039.49|     TRUE|\n",
      "|    1|   1|19/02/2010|    41595.55|    FALSE|\n",
      "|    1|   1|26/02/2010|    19403.54|    FALSE|\n",
      "|    1|   1|05/03/2010|     21827.9|    FALSE|\n",
      "|    1|   1|12/03/2010|    21043.39|    FALSE|\n",
      "|    1|   1|19/03/2010|    22136.64|    FALSE|\n",
      "|    1|   1|26/03/2010|    26229.21|    FALSE|\n",
      "|    1|   1|02/04/2010|    57258.43|    FALSE|\n",
      "|    1|   1|09/04/2010|    42960.91|    FALSE|\n",
      "|    1|   1|16/04/2010|    17596.96|    FALSE|\n",
      "|    1|   1|23/04/2010|    16145.35|    FALSE|\n",
      "|    1|   1|30/04/2010|    16555.11|    FALSE|\n",
      "|    1|   1|07/05/2010|    17413.94|    FALSE|\n",
      "|    1|   1|14/05/2010|    18926.74|    FALSE|\n",
      "|    1|   1|21/05/2010|    14773.04|    FALSE|\n",
      "|    1|   1|28/05/2010|    15580.43|    FALSE|\n",
      "|    1|   1|04/06/2010|    17558.09|    FALSE|\n",
      "|    1|   1|11/06/2010|    16637.62|    FALSE|\n",
      "|    1|   1|18/06/2010|    16216.27|    FALSE|\n",
      "+-----+----+----------+------------+---------+\n",
      "only showing top 20 rows\n",
      "\n"
     ]
    }
   ],
   "source": [
    "sales.show()"
   ]
  },
  {
   "cell_type": "code",
   "execution_count": 13,
   "metadata": {},
   "outputs": [
    {
     "name": "stdout",
     "output_type": "stream",
     "text": [
      "root\n",
      " |-- Store: string (nullable = true)\n",
      " |-- Dept: string (nullable = true)\n",
      " |-- Date: string (nullable = true)\n",
      " |-- Weekly_Sales: string (nullable = true)\n",
      " |-- IsHoliday: string (nullable = true)\n",
      "\n"
     ]
    }
   ],
   "source": [
    "sales.printSchema()"
   ]
  }
 ],
 "metadata": {
  "kernelspec": {
   "display_name": "Python 3",
   "language": "python",
   "name": "python3"
  },
  "language_info": {
   "codemirror_mode": {
    "name": "ipython",
    "version": 3
   },
   "file_extension": ".py",
   "mimetype": "text/x-python",
   "name": "python",
   "nbconvert_exporter": "python",
   "pygments_lexer": "ipython3",
   "version": "3.7.4"
  }
 },
 "nbformat": 4,
 "nbformat_minor": 2
}
