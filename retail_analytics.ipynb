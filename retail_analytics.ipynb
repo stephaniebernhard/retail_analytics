{
 "cells": [
  {
   "cell_type": "code",
   "execution_count": 1,
   "metadata": {},
   "outputs": [],
   "source": [
    "import findspark\n",
    "\n",
    "findspark.init()"
   ]
  },
  {
   "cell_type": "code",
   "execution_count": 2,
   "metadata": {},
   "outputs": [],
   "source": [
    "import pyspark\n",
    "\n",
    "from pyspark.sql import SparkSession\n",
    "\n",
    "spark = SparkSession.builder.getOrCreate()"
   ]
  },
  {
   "cell_type": "markdown",
   "metadata": {},
   "source": [
    "# Import, analyse and prepare data\n",
    "\n",
    "## Store Data"
   ]
  },
  {
   "cell_type": "code",
   "execution_count": 3,
   "metadata": {},
   "outputs": [],
   "source": [
    "stores = spark.read.format(\"csv\").option(\"header\", \"true\").load(\"data/stores.csv\")"
   ]
  },
  {
   "cell_type": "code",
   "execution_count": 4,
   "metadata": {},
   "outputs": [
    {
     "name": "stdout",
     "output_type": "stream",
     "text": [
      "+-----+----+------+\n",
      "|Store|Type|  Size|\n",
      "+-----+----+------+\n",
      "|    1|   A|151315|\n",
      "|    2|   A|202307|\n",
      "|    3|   B| 37392|\n",
      "|    4|   A|205863|\n",
      "|    5|   B| 34875|\n",
      "|    6|   A|202505|\n",
      "|    7|   B| 70713|\n",
      "|    8|   A|155078|\n",
      "|    9|   B|125833|\n",
      "|   10|   B|126512|\n",
      "|   11|   A|207499|\n",
      "|   12|   B|112238|\n",
      "|   13|   A|219622|\n",
      "|   14|   A|200898|\n",
      "|   15|   B|123737|\n",
      "|   16|   B| 57197|\n",
      "|   17|   B| 93188|\n",
      "|   18|   B|120653|\n",
      "|   19|   A|203819|\n",
      "|   20|   A|203742|\n",
      "+-----+----+------+\n",
      "only showing top 20 rows\n",
      "\n"
     ]
    }
   ],
   "source": [
    "stores.show()"
   ]
  },
  {
   "cell_type": "markdown",
   "metadata": {},
   "source": [
    "As I want to make predictions per store, the store data itself is not relevant for my model\n",
    "\n",
    "## Feature Data"
   ]
  },
  {
   "cell_type": "code",
   "execution_count": 5,
   "metadata": {},
   "outputs": [],
   "source": [
    "features = spark.read.format(\"csv\").option(\"header\", \"true\").load(\"data/features.csv\")"
   ]
  },
  {
   "cell_type": "code",
   "execution_count": 6,
   "metadata": {},
   "outputs": [
    {
     "name": "stdout",
     "output_type": "stream",
     "text": [
      "+-----+----------+-----------+----------+---------+---------+---------+---------+---------+-----------+------------+---------+\n",
      "|Store|      Date|Temperature|Fuel_Price|MarkDown1|MarkDown2|MarkDown3|MarkDown4|MarkDown5|        CPI|Unemployment|IsHoliday|\n",
      "+-----+----------+-----------+----------+---------+---------+---------+---------+---------+-----------+------------+---------+\n",
      "|    1|05/02/2010|      42.31|     2.572|       NA|       NA|       NA|       NA|       NA|211.0963582|       8.106|    FALSE|\n",
      "|    1|12/02/2010|      38.51|     2.548|       NA|       NA|       NA|       NA|       NA|211.2421698|       8.106|     TRUE|\n",
      "|    1|19/02/2010|      39.93|     2.514|       NA|       NA|       NA|       NA|       NA|211.2891429|       8.106|    FALSE|\n",
      "|    1|26/02/2010|      46.63|     2.561|       NA|       NA|       NA|       NA|       NA|211.3196429|       8.106|    FALSE|\n",
      "|    1|05/03/2010|       46.5|     2.625|       NA|       NA|       NA|       NA|       NA|211.3501429|       8.106|    FALSE|\n",
      "|    1|12/03/2010|      57.79|     2.667|       NA|       NA|       NA|       NA|       NA|211.3806429|       8.106|    FALSE|\n",
      "|    1|19/03/2010|      54.58|      2.72|       NA|       NA|       NA|       NA|       NA| 211.215635|       8.106|    FALSE|\n",
      "|    1|26/03/2010|      51.45|     2.732|       NA|       NA|       NA|       NA|       NA|211.0180424|       8.106|    FALSE|\n",
      "|    1|02/04/2010|      62.27|     2.719|       NA|       NA|       NA|       NA|       NA|210.8204499|       7.808|    FALSE|\n",
      "|    1|09/04/2010|      65.86|      2.77|       NA|       NA|       NA|       NA|       NA|210.6228574|       7.808|    FALSE|\n",
      "|    1|16/04/2010|      66.32|     2.808|       NA|       NA|       NA|       NA|       NA|   210.4887|       7.808|    FALSE|\n",
      "|    1|23/04/2010|      64.84|     2.795|       NA|       NA|       NA|       NA|       NA|210.4391228|       7.808|    FALSE|\n",
      "|    1|30/04/2010|      67.41|      2.78|       NA|       NA|       NA|       NA|       NA|210.3895456|       7.808|    FALSE|\n",
      "|    1|07/05/2010|      72.55|     2.835|       NA|       NA|       NA|       NA|       NA|210.3399684|       7.808|    FALSE|\n",
      "|    1|14/05/2010|      74.78|     2.854|       NA|       NA|       NA|       NA|       NA|210.3374261|       7.808|    FALSE|\n",
      "|    1|21/05/2010|      76.44|     2.826|       NA|       NA|       NA|       NA|       NA|210.6170934|       7.808|    FALSE|\n",
      "|    1|28/05/2010|      80.44|     2.759|       NA|       NA|       NA|       NA|       NA|210.8967606|       7.808|    FALSE|\n",
      "|    1|04/06/2010|      80.69|     2.705|       NA|       NA|       NA|       NA|       NA|211.1764278|       7.808|    FALSE|\n",
      "|    1|11/06/2010|      80.43|     2.668|       NA|       NA|       NA|       NA|       NA|211.4560951|       7.808|    FALSE|\n",
      "|    1|18/06/2010|      84.11|     2.637|       NA|       NA|       NA|       NA|       NA|211.4537719|       7.808|    FALSE|\n",
      "+-----+----------+-----------+----------+---------+---------+---------+---------+---------+-----------+------------+---------+\n",
      "only showing top 20 rows\n",
      "\n"
     ]
    }
   ],
   "source": [
    "features.show()"
   ]
  },
  {
   "cell_type": "code",
   "execution_count": 7,
   "metadata": {},
   "outputs": [
    {
     "name": "stdout",
     "output_type": "stream",
     "text": [
      "root\n",
      " |-- Store: string (nullable = true)\n",
      " |-- Date: string (nullable = true)\n",
      " |-- Temperature: string (nullable = true)\n",
      " |-- Fuel_Price: string (nullable = true)\n",
      " |-- MarkDown1: string (nullable = true)\n",
      " |-- MarkDown2: string (nullable = true)\n",
      " |-- MarkDown3: string (nullable = true)\n",
      " |-- MarkDown4: string (nullable = true)\n",
      " |-- MarkDown5: string (nullable = true)\n",
      " |-- CPI: string (nullable = true)\n",
      " |-- Unemployment: string (nullable = true)\n",
      " |-- IsHoliday: string (nullable = true)\n",
      "\n"
     ]
    }
   ],
   "source": [
    "features.printSchema()"
   ]
  },
  {
   "cell_type": "markdown",
   "metadata": {},
   "source": [
    "The data has to be transformed into the correct datatypes.\n",
    "\n",
    "As MarkDown data is not available for more than half of the records, I decided to neglect this information for the model."
   ]
  },
  {
   "cell_type": "code",
   "execution_count": 8,
   "metadata": {},
   "outputs": [],
   "source": [
    "from pyspark.sql.types import DoubleType, IntegerType, DateType, BooleanType\n",
    "from pyspark.sql.functions import to_date\n",
    "\n",
    "\n",
    "features = features\\\n",
    "    .withColumn(\"Store\", features.Store.cast(IntegerType()))\\\n",
    "    .withColumn(\"Date\", to_date(features.Date, \"dd/MM/yyyy\"))\\\n",
    "    .withColumn(\"Temperature\", features.Temperature.cast(DoubleType()))\\\n",
    "    .withColumn(\"Fuel_Price\", features.Fuel_Price.cast(DoubleType()))\\\n",
    "    .withColumn(\"CPI\", features.CPI.cast(DoubleType()))\\\n",
    "    .withColumn(\"Unemployment\", features.Unemployment.cast(DoubleType()))\\\n",
    "    .withColumn(\"IsHoliday\", features.IsHoliday.cast(BooleanType()))\n",
    "\n",
    "features = features.select(\"Store\",\\\n",
    "                           \"Date\",\\\n",
    "                           \"Temperature\",\\\n",
    "                           \"Fuel_Price\",\\\n",
    "                           \"CPI\",\\\n",
    "                           \"Unemployment\",\\\n",
    "                           \"IsHoliday\")"
   ]
  },
  {
   "cell_type": "code",
   "execution_count": 9,
   "metadata": {},
   "outputs": [
    {
     "name": "stdout",
     "output_type": "stream",
     "text": [
      "root\n",
      " |-- Store: integer (nullable = true)\n",
      " |-- Date: date (nullable = true)\n",
      " |-- Temperature: double (nullable = true)\n",
      " |-- Fuel_Price: double (nullable = true)\n",
      " |-- CPI: double (nullable = true)\n",
      " |-- Unemployment: double (nullable = true)\n",
      " |-- IsHoliday: boolean (nullable = true)\n",
      "\n"
     ]
    }
   ],
   "source": [
    "features.printSchema()"
   ]
  },
  {
   "cell_type": "code",
   "execution_count": 10,
   "metadata": {},
   "outputs": [
    {
     "name": "stdout",
     "output_type": "stream",
     "text": [
      "+-----+----------+-----------+----------+-----------+------------+---------+\n",
      "|Store|      Date|Temperature|Fuel_Price|        CPI|Unemployment|IsHoliday|\n",
      "+-----+----------+-----------+----------+-----------+------------+---------+\n",
      "|    1|2010-02-05|      42.31|     2.572|211.0963582|       8.106|    false|\n",
      "|    1|2010-02-12|      38.51|     2.548|211.2421698|       8.106|     true|\n",
      "|    1|2010-02-19|      39.93|     2.514|211.2891429|       8.106|    false|\n",
      "|    1|2010-02-26|      46.63|     2.561|211.3196429|       8.106|    false|\n",
      "|    1|2010-03-05|       46.5|     2.625|211.3501429|       8.106|    false|\n",
      "|    1|2010-03-12|      57.79|     2.667|211.3806429|       8.106|    false|\n",
      "|    1|2010-03-19|      54.58|      2.72| 211.215635|       8.106|    false|\n",
      "|    1|2010-03-26|      51.45|     2.732|211.0180424|       8.106|    false|\n",
      "|    1|2010-04-02|      62.27|     2.719|210.8204499|       7.808|    false|\n",
      "|    1|2010-04-09|      65.86|      2.77|210.6228574|       7.808|    false|\n",
      "|    1|2010-04-16|      66.32|     2.808|   210.4887|       7.808|    false|\n",
      "|    1|2010-04-23|      64.84|     2.795|210.4391228|       7.808|    false|\n",
      "|    1|2010-04-30|      67.41|      2.78|210.3895456|       7.808|    false|\n",
      "|    1|2010-05-07|      72.55|     2.835|210.3399684|       7.808|    false|\n",
      "|    1|2010-05-14|      74.78|     2.854|210.3374261|       7.808|    false|\n",
      "|    1|2010-05-21|      76.44|     2.826|210.6170934|       7.808|    false|\n",
      "|    1|2010-05-28|      80.44|     2.759|210.8967606|       7.808|    false|\n",
      "|    1|2010-06-04|      80.69|     2.705|211.1764278|       7.808|    false|\n",
      "|    1|2010-06-11|      80.43|     2.668|211.4560951|       7.808|    false|\n",
      "|    1|2010-06-18|      84.11|     2.637|211.4537719|       7.808|    false|\n",
      "+-----+----------+-----------+----------+-----------+------------+---------+\n",
      "only showing top 20 rows\n",
      "\n"
     ]
    }
   ],
   "source": [
    "features.show()"
   ]
  },
  {
   "cell_type": "markdown",
   "metadata": {},
   "source": [
    "## Sales Data"
   ]
  },
  {
   "cell_type": "code",
   "execution_count": 11,
   "metadata": {},
   "outputs": [],
   "source": [
    "sales = spark.read.format(\"csv\").option(\"header\", \"true\").load(\"data/sales.csv\")"
   ]
  },
  {
   "cell_type": "code",
   "execution_count": 12,
   "metadata": {},
   "outputs": [
    {
     "name": "stdout",
     "output_type": "stream",
     "text": [
      "+-----+----+----------+------------+---------+\n",
      "|Store|Dept|      Date|Weekly_Sales|IsHoliday|\n",
      "+-----+----+----------+------------+---------+\n",
      "|    1|   1|05/02/2010|     24924.5|    FALSE|\n",
      "|    1|   1|12/02/2010|    46039.49|     TRUE|\n",
      "|    1|   1|19/02/2010|    41595.55|    FALSE|\n",
      "|    1|   1|26/02/2010|    19403.54|    FALSE|\n",
      "|    1|   1|05/03/2010|     21827.9|    FALSE|\n",
      "|    1|   1|12/03/2010|    21043.39|    FALSE|\n",
      "|    1|   1|19/03/2010|    22136.64|    FALSE|\n",
      "|    1|   1|26/03/2010|    26229.21|    FALSE|\n",
      "|    1|   1|02/04/2010|    57258.43|    FALSE|\n",
      "|    1|   1|09/04/2010|    42960.91|    FALSE|\n",
      "|    1|   1|16/04/2010|    17596.96|    FALSE|\n",
      "|    1|   1|23/04/2010|    16145.35|    FALSE|\n",
      "|    1|   1|30/04/2010|    16555.11|    FALSE|\n",
      "|    1|   1|07/05/2010|    17413.94|    FALSE|\n",
      "|    1|   1|14/05/2010|    18926.74|    FALSE|\n",
      "|    1|   1|21/05/2010|    14773.04|    FALSE|\n",
      "|    1|   1|28/05/2010|    15580.43|    FALSE|\n",
      "|    1|   1|04/06/2010|    17558.09|    FALSE|\n",
      "|    1|   1|11/06/2010|    16637.62|    FALSE|\n",
      "|    1|   1|18/06/2010|    16216.27|    FALSE|\n",
      "+-----+----+----------+------------+---------+\n",
      "only showing top 20 rows\n",
      "\n"
     ]
    }
   ],
   "source": [
    "sales.show()"
   ]
  },
  {
   "cell_type": "code",
   "execution_count": 13,
   "metadata": {},
   "outputs": [
    {
     "name": "stdout",
     "output_type": "stream",
     "text": [
      "root\n",
      " |-- Store: string (nullable = true)\n",
      " |-- Dept: string (nullable = true)\n",
      " |-- Date: string (nullable = true)\n",
      " |-- Weekly_Sales: string (nullable = true)\n",
      " |-- IsHoliday: string (nullable = true)\n",
      "\n"
     ]
    }
   ],
   "source": [
    "sales.printSchema()"
   ]
  },
  {
   "cell_type": "markdown",
   "metadata": {},
   "source": [
    "The data has to be transformed into the correct datatypes.\n"
   ]
  },
  {
   "cell_type": "code",
   "execution_count": 14,
   "metadata": {},
   "outputs": [],
   "source": [
    "sales = sales\\\n",
    "    .withColumn(\"Store\", sales.Store.cast(IntegerType()))\\\n",
    "    .withColumn(\"Dept\", sales.Dept.cast(IntegerType()))\\\n",
    "    .withColumn(\"Date\", to_date(sales.Date, \"dd/MM/yyyy\"))\\\n",
    "    .withColumn(\"Weekly_Sales\", sales.Weekly_Sales.cast(DoubleType()))\\\n",
    "    .withColumn(\"IsHoliday\", sales.IsHoliday.cast(BooleanType()))"
   ]
  },
  {
   "cell_type": "code",
   "execution_count": 15,
   "metadata": {},
   "outputs": [
    {
     "name": "stdout",
     "output_type": "stream",
     "text": [
      "+-----+----+----------+------------+---------+\n",
      "|Store|Dept|      Date|Weekly_Sales|IsHoliday|\n",
      "+-----+----+----------+------------+---------+\n",
      "|    1|   1|2010-02-05|     24924.5|    false|\n",
      "|    1|   1|2010-02-12|    46039.49|     true|\n",
      "|    1|   1|2010-02-19|    41595.55|    false|\n",
      "|    1|   1|2010-02-26|    19403.54|    false|\n",
      "|    1|   1|2010-03-05|     21827.9|    false|\n",
      "|    1|   1|2010-03-12|    21043.39|    false|\n",
      "|    1|   1|2010-03-19|    22136.64|    false|\n",
      "|    1|   1|2010-03-26|    26229.21|    false|\n",
      "|    1|   1|2010-04-02|    57258.43|    false|\n",
      "|    1|   1|2010-04-09|    42960.91|    false|\n",
      "|    1|   1|2010-04-16|    17596.96|    false|\n",
      "|    1|   1|2010-04-23|    16145.35|    false|\n",
      "|    1|   1|2010-04-30|    16555.11|    false|\n",
      "|    1|   1|2010-05-07|    17413.94|    false|\n",
      "|    1|   1|2010-05-14|    18926.74|    false|\n",
      "|    1|   1|2010-05-21|    14773.04|    false|\n",
      "|    1|   1|2010-05-28|    15580.43|    false|\n",
      "|    1|   1|2010-06-04|    17558.09|    false|\n",
      "|    1|   1|2010-06-11|    16637.62|    false|\n",
      "|    1|   1|2010-06-18|    16216.27|    false|\n",
      "+-----+----+----------+------------+---------+\n",
      "only showing top 20 rows\n",
      "\n"
     ]
    }
   ],
   "source": [
    "sales.show()"
   ]
  },
  {
   "cell_type": "code",
   "execution_count": 16,
   "metadata": {},
   "outputs": [
    {
     "name": "stdout",
     "output_type": "stream",
     "text": [
      "root\n",
      " |-- Store: integer (nullable = true)\n",
      " |-- Dept: integer (nullable = true)\n",
      " |-- Date: date (nullable = true)\n",
      " |-- Weekly_Sales: double (nullable = true)\n",
      " |-- IsHoliday: boolean (nullable = true)\n",
      "\n"
     ]
    }
   ],
   "source": [
    "sales.printSchema()"
   ]
  },
  {
   "cell_type": "markdown",
   "metadata": {},
   "source": [
    "# Data Statistics"
   ]
  },
  {
   "cell_type": "code",
   "execution_count": 17,
   "metadata": {},
   "outputs": [
    {
     "name": "stdout",
     "output_type": "stream",
     "text": [
      "+-------+------------------+------------------+------------------+\n",
      "|summary|             Store|              Dept|      Weekly_Sales|\n",
      "+-------+------------------+------------------+------------------+\n",
      "|  count|            421570|            421570|            421570|\n",
      "|   mean|22.200545579619043| 44.26031738501317|15981.258123467534|\n",
      "| stddev| 12.78529738990308|30.492054015786014|22711.183519163187|\n",
      "|    min|                 1|                 1|          -4988.94|\n",
      "|    max|                45|                99|         693099.36|\n",
      "+-------+------------------+------------------+------------------+\n",
      "\n"
     ]
    }
   ],
   "source": [
    "sales.describe().show()"
   ]
  },
  {
   "cell_type": "code",
   "execution_count": 18,
   "metadata": {},
   "outputs": [
    {
     "name": "stdout",
     "output_type": "stream",
     "text": [
      "+-------+---------------+-----------------+-------------------+------------------+-----------------+\n",
      "|summary|          Store|      Temperature|         Fuel_Price|               CPI|     Unemployment|\n",
      "+-------+---------------+-----------------+-------------------+------------------+-----------------+\n",
      "|  count|           8190|             8190|               8190|              7605|             7605|\n",
      "|   mean|           23.0|59.35619780219781| 3.4059918192918217|172.46080918276078|7.826821038790305|\n",
      "| stddev|12.987966099514| 18.6786068489072|0.43133657110071383| 39.73834609860842|1.877258593917429|\n",
      "|    min|              1|            -7.29|              2.472|           126.064|            3.684|\n",
      "|    max|             45|           101.95|              4.468|       228.9764563|           14.313|\n",
      "+-------+---------------+-----------------+-------------------+------------------+-----------------+\n",
      "\n"
     ]
    }
   ],
   "source": [
    "features.describe().show()"
   ]
  },
  {
   "cell_type": "markdown",
   "metadata": {},
   "source": [
    "# Join Data"
   ]
  },
  {
   "cell_type": "code",
   "execution_count": 19,
   "metadata": {},
   "outputs": [
    {
     "name": "stdout",
     "output_type": "stream",
     "text": [
      "+-----+----------+---------+----+------------+-----------+----------+-----------+------------+\n",
      "|Store|      Date|IsHoliday|Dept|Weekly_Sales|Temperature|Fuel_Price|        CPI|Unemployment|\n",
      "+-----+----------+---------+----+------------+-----------+----------+-----------+------------+\n",
      "|    1|2010-02-05|    false|   1|     24924.5|      42.31|     2.572|211.0963582|       8.106|\n",
      "|    1|2010-02-12|     true|   1|    46039.49|      38.51|     2.548|211.2421698|       8.106|\n",
      "|    1|2010-02-19|    false|   1|    41595.55|      39.93|     2.514|211.2891429|       8.106|\n",
      "|    1|2010-02-26|    false|   1|    19403.54|      46.63|     2.561|211.3196429|       8.106|\n",
      "|    1|2010-03-05|    false|   1|     21827.9|       46.5|     2.625|211.3501429|       8.106|\n",
      "|    1|2010-03-12|    false|   1|    21043.39|      57.79|     2.667|211.3806429|       8.106|\n",
      "|    1|2010-03-19|    false|   1|    22136.64|      54.58|      2.72| 211.215635|       8.106|\n",
      "|    1|2010-03-26|    false|   1|    26229.21|      51.45|     2.732|211.0180424|       8.106|\n",
      "|    1|2010-04-02|    false|   1|    57258.43|      62.27|     2.719|210.8204499|       7.808|\n",
      "|    1|2010-04-09|    false|   1|    42960.91|      65.86|      2.77|210.6228574|       7.808|\n",
      "|    1|2010-04-16|    false|   1|    17596.96|      66.32|     2.808|   210.4887|       7.808|\n",
      "|    1|2010-04-23|    false|   1|    16145.35|      64.84|     2.795|210.4391228|       7.808|\n",
      "|    1|2010-04-30|    false|   1|    16555.11|      67.41|      2.78|210.3895456|       7.808|\n",
      "|    1|2010-05-07|    false|   1|    17413.94|      72.55|     2.835|210.3399684|       7.808|\n",
      "|    1|2010-05-14|    false|   1|    18926.74|      74.78|     2.854|210.3374261|       7.808|\n",
      "|    1|2010-05-21|    false|   1|    14773.04|      76.44|     2.826|210.6170934|       7.808|\n",
      "|    1|2010-05-28|    false|   1|    15580.43|      80.44|     2.759|210.8967606|       7.808|\n",
      "|    1|2010-06-04|    false|   1|    17558.09|      80.69|     2.705|211.1764278|       7.808|\n",
      "|    1|2010-06-11|    false|   1|    16637.62|      80.43|     2.668|211.4560951|       7.808|\n",
      "|    1|2010-06-18|    false|   1|    16216.27|      84.11|     2.637|211.4537719|       7.808|\n",
      "+-----+----------+---------+----+------------+-----------+----------+-----------+------------+\n",
      "only showing top 20 rows\n",
      "\n"
     ]
    }
   ],
   "source": [
    "df = sales.join(features, [\"Store\", \"Date\", \"IsHoliday\"])\n",
    "df.show()"
   ]
  },
  {
   "cell_type": "code",
   "execution_count": 20,
   "metadata": {},
   "outputs": [
    {
     "data": {
      "text/plain": [
       "[Row(Store=45, Date=datetime.date(2012, 10, 26), IsHoliday=False, Dept=98, Weekly_Sales=1076.8, Temperature=58.85, Fuel_Price=3.882, CPI=192.3088989, Unemployment=8.667)]"
      ]
     },
     "execution_count": 20,
     "metadata": {},
     "output_type": "execute_result"
    }
   ],
   "source": [
    "df.orderBy('Date').tail(1)"
   ]
  },
  {
   "cell_type": "markdown",
   "metadata": {},
   "source": [
    "Note: The data ranges from 2010-02-05 (week 5) until 2012-10-26 (week 43 )"
   ]
  },
  {
   "cell_type": "markdown",
   "metadata": {},
   "source": [
    "# Define Features/Categories"
   ]
  },
  {
   "cell_type": "code",
   "execution_count": 21,
   "metadata": {},
   "outputs": [
    {
     "name": "stdout",
     "output_type": "stream",
     "text": [
      "+-----+----------+---------+----+------------+-----------+----------+-----------+------------+----+\n",
      "|Store|      Date|IsHoliday|Dept|Weekly_Sales|Temperature|Fuel_Price|        CPI|Unemployment|Week|\n",
      "+-----+----------+---------+----+------------+-----------+----------+-----------+------------+----+\n",
      "|    1|2010-02-05|        0|   1|     24924.5|      42.31|     2.572|211.0963582|       8.106|   5|\n",
      "|    1|2010-02-12|        1|   1|    46039.49|      38.51|     2.548|211.2421698|       8.106|   6|\n",
      "|    1|2010-02-19|        0|   1|    41595.55|      39.93|     2.514|211.2891429|       8.106|   7|\n",
      "|    1|2010-02-26|        0|   1|    19403.54|      46.63|     2.561|211.3196429|       8.106|   8|\n",
      "|    1|2010-03-05|        0|   1|     21827.9|       46.5|     2.625|211.3501429|       8.106|   9|\n",
      "|    1|2010-03-12|        0|   1|    21043.39|      57.79|     2.667|211.3806429|       8.106|  10|\n",
      "|    1|2010-03-19|        0|   1|    22136.64|      54.58|      2.72| 211.215635|       8.106|  11|\n",
      "|    1|2010-03-26|        0|   1|    26229.21|      51.45|     2.732|211.0180424|       8.106|  12|\n",
      "|    1|2010-04-02|        0|   1|    57258.43|      62.27|     2.719|210.8204499|       7.808|  13|\n",
      "|    1|2010-04-09|        0|   1|    42960.91|      65.86|      2.77|210.6228574|       7.808|  14|\n",
      "|    1|2010-04-16|        0|   1|    17596.96|      66.32|     2.808|   210.4887|       7.808|  15|\n",
      "|    1|2010-04-23|        0|   1|    16145.35|      64.84|     2.795|210.4391228|       7.808|  16|\n",
      "|    1|2010-04-30|        0|   1|    16555.11|      67.41|      2.78|210.3895456|       7.808|  17|\n",
      "|    1|2010-05-07|        0|   1|    17413.94|      72.55|     2.835|210.3399684|       7.808|  18|\n",
      "|    1|2010-05-14|        0|   1|    18926.74|      74.78|     2.854|210.3374261|       7.808|  19|\n",
      "|    1|2010-05-21|        0|   1|    14773.04|      76.44|     2.826|210.6170934|       7.808|  20|\n",
      "|    1|2010-05-28|        0|   1|    15580.43|      80.44|     2.759|210.8967606|       7.808|  21|\n",
      "|    1|2010-06-04|        0|   1|    17558.09|      80.69|     2.705|211.1764278|       7.808|  22|\n",
      "|    1|2010-06-11|        0|   1|    16637.62|      80.43|     2.668|211.4560951|       7.808|  23|\n",
      "|    1|2010-06-18|        0|   1|    16216.27|      84.11|     2.637|211.4537719|       7.808|  24|\n",
      "+-----+----------+---------+----+------------+-----------+----------+-----------+------------+----+\n",
      "only showing top 20 rows\n",
      "\n"
     ]
    }
   ],
   "source": [
    "from pyspark.sql.functions import weekofyear\n",
    "\n",
    "\n",
    "df = df.withColumn('Week', weekofyear(df.Date))\n",
    "df = df.withColumn('IsHoliday', df.IsHoliday.cast(IntegerType()))\n",
    "df.show()"
   ]
  },
  {
   "cell_type": "code",
   "execution_count": 22,
   "metadata": {},
   "outputs": [
    {
     "data": {
      "text/plain": [
       "421570"
      ]
     },
     "execution_count": 22,
     "metadata": {},
     "output_type": "execute_result"
    }
   ],
   "source": [
    "df.count()"
   ]
  },
  {
   "cell_type": "code",
   "execution_count": 23,
   "metadata": {},
   "outputs": [
    {
     "data": {
      "text/plain": [
       "421570"
      ]
     },
     "execution_count": 23,
     "metadata": {},
     "output_type": "execute_result"
    }
   ],
   "source": [
    "df.na.drop().count()"
   ]
  },
  {
   "cell_type": "code",
   "execution_count": 24,
   "metadata": {},
   "outputs": [],
   "source": [
    "df_pd = df.toPandas()"
   ]
  },
  {
   "cell_type": "code",
   "execution_count": 25,
   "metadata": {},
   "outputs": [
    {
     "data": {
      "text/html": [
       "<div>\n",
       "<style scoped>\n",
       "    .dataframe tbody tr th:only-of-type {\n",
       "        vertical-align: middle;\n",
       "    }\n",
       "\n",
       "    .dataframe tbody tr th {\n",
       "        vertical-align: top;\n",
       "    }\n",
       "\n",
       "    .dataframe thead th {\n",
       "        text-align: right;\n",
       "    }\n",
       "</style>\n",
       "<table border=\"1\" class=\"dataframe\">\n",
       "  <thead>\n",
       "    <tr style=\"text-align: right;\">\n",
       "      <th></th>\n",
       "      <th>Store</th>\n",
       "      <th>Date</th>\n",
       "      <th>IsHoliday</th>\n",
       "      <th>Dept</th>\n",
       "      <th>Weekly_Sales</th>\n",
       "      <th>Temperature</th>\n",
       "      <th>Fuel_Price</th>\n",
       "      <th>CPI</th>\n",
       "      <th>Unemployment</th>\n",
       "      <th>Week</th>\n",
       "    </tr>\n",
       "  </thead>\n",
       "  <tbody>\n",
       "    <tr>\n",
       "      <td>0</td>\n",
       "      <td>1</td>\n",
       "      <td>2010-02-05</td>\n",
       "      <td>0</td>\n",
       "      <td>1</td>\n",
       "      <td>24924.50</td>\n",
       "      <td>42.31</td>\n",
       "      <td>2.572</td>\n",
       "      <td>211.096358</td>\n",
       "      <td>8.106</td>\n",
       "      <td>5</td>\n",
       "    </tr>\n",
       "    <tr>\n",
       "      <td>1</td>\n",
       "      <td>1</td>\n",
       "      <td>2010-02-12</td>\n",
       "      <td>1</td>\n",
       "      <td>1</td>\n",
       "      <td>46039.49</td>\n",
       "      <td>38.51</td>\n",
       "      <td>2.548</td>\n",
       "      <td>211.242170</td>\n",
       "      <td>8.106</td>\n",
       "      <td>6</td>\n",
       "    </tr>\n",
       "    <tr>\n",
       "      <td>2</td>\n",
       "      <td>1</td>\n",
       "      <td>2010-02-19</td>\n",
       "      <td>0</td>\n",
       "      <td>1</td>\n",
       "      <td>41595.55</td>\n",
       "      <td>39.93</td>\n",
       "      <td>2.514</td>\n",
       "      <td>211.289143</td>\n",
       "      <td>8.106</td>\n",
       "      <td>7</td>\n",
       "    </tr>\n",
       "    <tr>\n",
       "      <td>3</td>\n",
       "      <td>1</td>\n",
       "      <td>2010-02-26</td>\n",
       "      <td>0</td>\n",
       "      <td>1</td>\n",
       "      <td>19403.54</td>\n",
       "      <td>46.63</td>\n",
       "      <td>2.561</td>\n",
       "      <td>211.319643</td>\n",
       "      <td>8.106</td>\n",
       "      <td>8</td>\n",
       "    </tr>\n",
       "    <tr>\n",
       "      <td>4</td>\n",
       "      <td>1</td>\n",
       "      <td>2010-03-05</td>\n",
       "      <td>0</td>\n",
       "      <td>1</td>\n",
       "      <td>21827.90</td>\n",
       "      <td>46.50</td>\n",
       "      <td>2.625</td>\n",
       "      <td>211.350143</td>\n",
       "      <td>8.106</td>\n",
       "      <td>9</td>\n",
       "    </tr>\n",
       "    <tr>\n",
       "      <td>...</td>\n",
       "      <td>...</td>\n",
       "      <td>...</td>\n",
       "      <td>...</td>\n",
       "      <td>...</td>\n",
       "      <td>...</td>\n",
       "      <td>...</td>\n",
       "      <td>...</td>\n",
       "      <td>...</td>\n",
       "      <td>...</td>\n",
       "      <td>...</td>\n",
       "    </tr>\n",
       "    <tr>\n",
       "      <td>421565</td>\n",
       "      <td>45</td>\n",
       "      <td>2012-09-28</td>\n",
       "      <td>0</td>\n",
       "      <td>98</td>\n",
       "      <td>508.37</td>\n",
       "      <td>64.88</td>\n",
       "      <td>3.997</td>\n",
       "      <td>192.013558</td>\n",
       "      <td>8.684</td>\n",
       "      <td>39</td>\n",
       "    </tr>\n",
       "    <tr>\n",
       "      <td>421566</td>\n",
       "      <td>45</td>\n",
       "      <td>2012-10-05</td>\n",
       "      <td>0</td>\n",
       "      <td>98</td>\n",
       "      <td>628.10</td>\n",
       "      <td>64.89</td>\n",
       "      <td>3.985</td>\n",
       "      <td>192.170412</td>\n",
       "      <td>8.667</td>\n",
       "      <td>40</td>\n",
       "    </tr>\n",
       "    <tr>\n",
       "      <td>421567</td>\n",
       "      <td>45</td>\n",
       "      <td>2012-10-12</td>\n",
       "      <td>0</td>\n",
       "      <td>98</td>\n",
       "      <td>1061.02</td>\n",
       "      <td>54.47</td>\n",
       "      <td>4.000</td>\n",
       "      <td>192.327265</td>\n",
       "      <td>8.667</td>\n",
       "      <td>41</td>\n",
       "    </tr>\n",
       "    <tr>\n",
       "      <td>421568</td>\n",
       "      <td>45</td>\n",
       "      <td>2012-10-19</td>\n",
       "      <td>0</td>\n",
       "      <td>98</td>\n",
       "      <td>760.01</td>\n",
       "      <td>56.47</td>\n",
       "      <td>3.969</td>\n",
       "      <td>192.330854</td>\n",
       "      <td>8.667</td>\n",
       "      <td>42</td>\n",
       "    </tr>\n",
       "    <tr>\n",
       "      <td>421569</td>\n",
       "      <td>45</td>\n",
       "      <td>2012-10-26</td>\n",
       "      <td>0</td>\n",
       "      <td>98</td>\n",
       "      <td>1076.80</td>\n",
       "      <td>58.85</td>\n",
       "      <td>3.882</td>\n",
       "      <td>192.308899</td>\n",
       "      <td>8.667</td>\n",
       "      <td>43</td>\n",
       "    </tr>\n",
       "  </tbody>\n",
       "</table>\n",
       "<p>421570 rows × 10 columns</p>\n",
       "</div>"
      ],
      "text/plain": [
       "        Store        Date  IsHoliday  Dept  Weekly_Sales  Temperature  \\\n",
       "0           1  2010-02-05          0     1      24924.50        42.31   \n",
       "1           1  2010-02-12          1     1      46039.49        38.51   \n",
       "2           1  2010-02-19          0     1      41595.55        39.93   \n",
       "3           1  2010-02-26          0     1      19403.54        46.63   \n",
       "4           1  2010-03-05          0     1      21827.90        46.50   \n",
       "...       ...         ...        ...   ...           ...          ...   \n",
       "421565     45  2012-09-28          0    98        508.37        64.88   \n",
       "421566     45  2012-10-05          0    98        628.10        64.89   \n",
       "421567     45  2012-10-12          0    98       1061.02        54.47   \n",
       "421568     45  2012-10-19          0    98        760.01        56.47   \n",
       "421569     45  2012-10-26          0    98       1076.80        58.85   \n",
       "\n",
       "        Fuel_Price         CPI  Unemployment  Week  \n",
       "0            2.572  211.096358         8.106     5  \n",
       "1            2.548  211.242170         8.106     6  \n",
       "2            2.514  211.289143         8.106     7  \n",
       "3            2.561  211.319643         8.106     8  \n",
       "4            2.625  211.350143         8.106     9  \n",
       "...            ...         ...           ...   ...  \n",
       "421565       3.997  192.013558         8.684    39  \n",
       "421566       3.985  192.170412         8.667    40  \n",
       "421567       4.000  192.327265         8.667    41  \n",
       "421568       3.969  192.330854         8.667    42  \n",
       "421569       3.882  192.308899         8.667    43  \n",
       "\n",
       "[421570 rows x 10 columns]"
      ]
     },
     "execution_count": 25,
     "metadata": {},
     "output_type": "execute_result"
    }
   ],
   "source": [
    "df_pd"
   ]
  },
  {
   "cell_type": "code",
   "execution_count": 26,
   "metadata": {},
   "outputs": [
    {
     "name": "stderr",
     "output_type": "stream",
     "text": [
      "C:\\tools\\Anaconda3\\lib\\site-packages\\pandas\\plotting\\_matplotlib\\converter.py:103: FutureWarning: Using an implicitly registered datetime converter for a matplotlib plotting method. The converter was registered by pandas on import. Future versions of pandas will require you to explicitly register matplotlib converters.\n",
      "\n",
      "To register the converters:\n",
      "\t>>> from pandas.plotting import register_matplotlib_converters\n",
      "\t>>> register_matplotlib_converters()\n",
      "  warnings.warn(msg, FutureWarning)\n"
     ]
    },
    {
     "data": {
      "text/plain": [
       "Text(0, 0.5, 'Weekly_Sales')"
      ]
     },
     "execution_count": 26,
     "metadata": {},
     "output_type": "execute_result"
    }
   ],
   "source": [
    "import matplotlib.pyplot as plt\n",
    "\n",
    "\n",
    "df_grouped =df_pd.groupby(by=['Date'], as_index=False)['Weekly_Sales'].sum()\n",
    "plt.figure(figsize=(12,4))\n",
    "plt.plot(df_grouped['Date'], df_grouped['Weekly_Sales'])\n",
    "plt.xlabel('Date')\n",
    "plt.ylabel('Weekly_Sales')"
   ]
  },
  {
   "cell_type": "markdown",
   "metadata": {},
   "source": [
    "There are obvious peaks/trends in the weekly sales during the holidays at the end of 2010 and 2011."
   ]
  },
  {
   "cell_type": "code",
   "execution_count": 27,
   "metadata": {},
   "outputs": [],
   "source": [
    "df_group_all =df_pd.groupby(by=['Date'], as_index=False)['Weekly_Sales', 'Temperature', 'Fuel_Price', 'CPI', 'Unemployment'].sum()\n"
   ]
  },
  {
   "cell_type": "code",
   "execution_count": 28,
   "metadata": {},
   "outputs": [
    {
     "data": {
      "text/plain": [
       "<matplotlib.legend.Legend at 0x18c92e3ee08>"
      ]
     },
     "execution_count": 28,
     "metadata": {},
     "output_type": "execute_result"
    },
    {
     "data": {
      "image/png": "[encoded data removed]",
      "text/plain": [
       "<Figure size 864x288 with 1 Axes>"
      ]
     },
     "metadata": {
      "needs_background": "light"
     },
     "output_type": "display_data"
    }
   ],
   "source": [
    "df_group_all['Unemployment'] = df_group_all['Unemployment']*2000\n",
    "\n",
    "plt.figure(figsize=(12,4))\n",
    "plt.plot(df_group_all['Date'], df_group_all['Weekly_Sales'])\n",
    "plt.plot(df_group_all['Date'], df_group_all['Unemployment'])\n",
    "plt.xlabel('Date')\n",
    "plt.legend(('Weekly_Sales', 'Unemployment'))"
   ]
  },
  {
   "cell_type": "markdown",
   "metadata": {},
   "source": [
    "The graph shows that there is no correlation between weekly sales and unemployment."
   ]
  },
  {
   "cell_type": "code",
   "execution_count": 29,
   "metadata": {},
   "outputs": [
    {
     "data": {
      "text/plain": [
       "<matplotlib.legend.Legend at 0x18c93076fc8>"
      ]
     },
     "execution_count": 29,
     "metadata": {},
     "output_type": "execute_result"
    },
    {
     "data": {
      "image/png": "[encoded data removed]",
      "text/plain": [
       "<Figure size 864x288 with 1 Axes>"
      ]
     },
     "metadata": {
      "needs_background": "light"
     },
     "output_type": "display_data"
    }
   ],
   "source": [
    "df_group_all['Temperature'] = df_group_all['Temperature']*250\n",
    "\n",
    "plt.figure(figsize=(12,4))\n",
    "plt.plot(df_group_all['Date'], df_group_all['Weekly_Sales'])\n",
    "plt.plot(df_group_all['Date'], df_group_all['Temperature'])\n",
    "plt.xlabel('Date')\n",
    "plt.legend(('Weekly_Sales', 'Temperature'))"
   ]
  },
  {
   "cell_type": "markdown",
   "metadata": {},
   "source": [
    "The graph shows that there is no correlation between weekly sales and temperature."
   ]
  },
  {
   "cell_type": "code",
   "execution_count": 30,
   "metadata": {},
   "outputs": [
    {
     "data": {
      "text/plain": [
       "<matplotlib.legend.Legend at 0x18c932cdd48>"
      ]
     },
     "execution_count": 30,
     "metadata": {},
     "output_type": "execute_result"
    },
    {
     "data": {
      "image/png": "[encoded data removed]",
      "text/plain": [
       "<Figure size 864x288 with 1 Axes>"
      ]
     },
     "metadata": {
      "needs_background": "light"
     },
     "output_type": "display_data"
    }
   ],
   "source": [
    "df_group_all['Fuel_Price'] = df_group_all['Fuel_Price']*2000\n",
    "\n",
    "plt.figure(figsize=(12,4))\n",
    "plt.plot(df_group_all['Date'], df_group_all['Weekly_Sales'])\n",
    "plt.plot(df_group_all['Date'], df_group_all['Fuel_Price'])\n",
    "plt.xlabel('Date')\n",
    "plt.legend(('Weekly_Sales', 'Fuel_Price'))"
   ]
  },
  {
   "cell_type": "markdown",
   "metadata": {},
   "source": [
    "The graph shows that there is no correlation between weekly sales and fuel price."
   ]
  },
  {
   "cell_type": "code",
   "execution_count": 31,
   "metadata": {},
   "outputs": [
    {
     "data": {
      "text/plain": [
       "<matplotlib.legend.Legend at 0x18c93466648>"
      ]
     },
     "execution_count": 31,
     "metadata": {},
     "output_type": "execute_result"
    },
    {
     "data": {
      "image/png": "[encoded data removed]",
      "text/plain": [
       "<Figure size 864x288 with 1 Axes>"
      ]
     },
     "metadata": {
      "needs_background": "light"
     },
     "output_type": "display_data"
    }
   ],
   "source": [
    "df_group_all['CPI'] = df_group_all['CPI']*100\n",
    "\n",
    "plt.figure(figsize=(12,4))\n",
    "plt.plot(df_group_all['Date'], df_group_all['Weekly_Sales'])\n",
    "plt.plot(df_group_all['Date'], df_group_all['CPI'])\n",
    "plt.xlabel('Date')\n",
    "plt.legend(('Weekly_Sales', 'CPI'))"
   ]
  },
  {
   "cell_type": "markdown",
   "metadata": {},
   "source": [
    "The graph shows that there is also no correlation between weekly sales and CPI.\n",
    "\n",
    "### Conclusion\n",
    "It does not make any sense to consider temperature, unemployment, CPI or fuel price as features. Therefore I decided to proceed with a time-series model. I chose to use Holt-Winters exponential smoothing due to the seasonal trend in the data. "
   ]
  },
  {
   "cell_type": "markdown",
   "metadata": {},
   "source": [
    "# Create and train Model"
   ]
  },
  {
   "cell_type": "code",
   "execution_count": 32,
   "metadata": {},
   "outputs": [
    {
     "data": {
      "text/html": [
       "<div>\n",
       "<style scoped>\n",
       "    .dataframe tbody tr th:only-of-type {\n",
       "        vertical-align: middle;\n",
       "    }\n",
       "\n",
       "    .dataframe tbody tr th {\n",
       "        vertical-align: top;\n",
       "    }\n",
       "\n",
       "    .dataframe thead th {\n",
       "        text-align: right;\n",
       "    }\n",
       "</style>\n",
       "<table border=\"1\" class=\"dataframe\">\n",
       "  <thead>\n",
       "    <tr style=\"text-align: right;\">\n",
       "      <th></th>\n",
       "      <th>Weekly_Sales</th>\n",
       "    </tr>\n",
       "    <tr>\n",
       "      <th>Date</th>\n",
       "      <th></th>\n",
       "    </tr>\n",
       "  </thead>\n",
       "  <tbody>\n",
       "    <tr>\n",
       "      <td>2010-02-05</td>\n",
       "      <td>49750740.50</td>\n",
       "    </tr>\n",
       "    <tr>\n",
       "      <td>2010-02-12</td>\n",
       "      <td>48336677.63</td>\n",
       "    </tr>\n",
       "    <tr>\n",
       "      <td>2010-02-19</td>\n",
       "      <td>48276993.78</td>\n",
       "    </tr>\n",
       "    <tr>\n",
       "      <td>2010-02-26</td>\n",
       "      <td>43968571.13</td>\n",
       "    </tr>\n",
       "    <tr>\n",
       "      <td>2010-03-05</td>\n",
       "      <td>46871470.30</td>\n",
       "    </tr>\n",
       "    <tr>\n",
       "      <td>...</td>\n",
       "      <td>...</td>\n",
       "    </tr>\n",
       "    <tr>\n",
       "      <td>2012-09-28</td>\n",
       "      <td>43734899.40</td>\n",
       "    </tr>\n",
       "    <tr>\n",
       "      <td>2012-10-05</td>\n",
       "      <td>47566639.31</td>\n",
       "    </tr>\n",
       "    <tr>\n",
       "      <td>2012-10-12</td>\n",
       "      <td>46128514.25</td>\n",
       "    </tr>\n",
       "    <tr>\n",
       "      <td>2012-10-19</td>\n",
       "      <td>45122410.57</td>\n",
       "    </tr>\n",
       "    <tr>\n",
       "      <td>2012-10-26</td>\n",
       "      <td>45544116.29</td>\n",
       "    </tr>\n",
       "  </tbody>\n",
       "</table>\n",
       "<p>143 rows × 1 columns</p>\n",
       "</div>"
      ],
      "text/plain": [
       "            Weekly_Sales\n",
       "Date                    \n",
       "2010-02-05   49750740.50\n",
       "2010-02-12   48336677.63\n",
       "2010-02-19   48276993.78\n",
       "2010-02-26   43968571.13\n",
       "2010-03-05   46871470.30\n",
       "...                  ...\n",
       "2012-09-28   43734899.40\n",
       "2012-10-05   47566639.31\n",
       "2012-10-12   46128514.25\n",
       "2012-10-19   45122410.57\n",
       "2012-10-26   45544116.29\n",
       "\n",
       "[143 rows x 1 columns]"
      ]
     },
     "execution_count": 32,
     "metadata": {},
     "output_type": "execute_result"
    }
   ],
   "source": [
    "df_group_sales = df_pd.groupby('Date', as_index=False)['Weekly_Sales'].sum()\n",
    "df_group_sales = df_group_sales.set_index(\"Date\")\n",
    "\n",
    "df_group_sales"
   ]
  },
  {
   "cell_type": "code",
   "execution_count": 33,
   "metadata": {},
   "outputs": [],
   "source": [
    "split_point = 100\n",
    "\n",
    "# take first x entries as train data\n",
    "train = df_group_sales.iloc[:split_point]\n",
    "# test with remaining entries\n",
    "test = df_group_sales.iloc[split_point:]"
   ]
  },
  {
   "cell_type": "code",
   "execution_count": 34,
   "metadata": {},
   "outputs": [
    {
     "data": {
      "text/plain": [
       "<matplotlib.axes._subplots.AxesSubplot at 0x18c95900548>"
      ]
     },
     "execution_count": 34,
     "metadata": {},
     "output_type": "execute_result"
    },
    {
     "data": {
      "image/png": "[encoded data removed]",
      "text/plain": [
       "<Figure size 864x432 with 1 Axes>"
      ]
     },
     "metadata": {
      "needs_background": "light"
     },
     "output_type": "display_data"
    }
   ],
   "source": [
    "from statsmodels.tsa.holtwinters import ExponentialSmoothing\n",
    "\n",
    "\n",
    "fit_model = ExponentialSmoothing(train,\n",
    "                                  seasonal='mul',\n",
    "                                  seasonal_periods=52,\n",
    "                                  freq='W-FRI'\n",
    "                                ).fit()\n",
    "prediction = fit_model.forecast(len(df_group_sales)-split_point)\n",
    "prediction\n",
    "\n",
    "\n",
    "test.plot(figsize=(12,6))\n",
    "prediction.plot()"
   ]
  },
  {
   "cell_type": "markdown",
   "metadata": {},
   "source": [
    "# Evaluate Predictions"
   ]
  },
  {
   "cell_type": "code",
   "execution_count": 35,
   "metadata": {},
   "outputs": [
    {
     "name": "stdout",
     "output_type": "stream",
     "text": [
      "Mean Absolute Percentage Error = 2.662007651696243%\n"
     ]
    }
   ],
   "source": [
    "import numpy as np\n",
    "\n",
    "\n",
    "def mean_absolute_percentage_error(y_true, y_pred): \n",
    "    return np.mean(np.abs((y_true - y_pred) / y_true)) * 100\n",
    "\n",
    "print(\"Mean Absolute Percentage Error = {a}%\".format(a=mean_absolute_percentage_error(test['Weekly_Sales'],prediction)))"
   ]
  },
  {
   "cell_type": "markdown",
   "metadata": {},
   "source": [
    "# Final Conclusions"
   ]
  },
  {
   "cell_type": "markdown",
   "metadata": {},
   "source": [
    "Exponential Smoothing seems to do a pretty good job. The current ratio is 100 entries for training and 43 entries for testing. \n",
    "The mean absolute percentage error will go down if the training set is extended, i.e. taking a ratio of 130 entries for training and the remaining 13 entries for testing will result in an error of 1.48% instead of 2.66% "
   ]
  }
 ],
 "metadata": {
  "kernelspec": {
   "display_name": "Python 3",
   "language": "python",
   "name": "python3"
  },
  "language_info": {
   "codemirror_mode": {
    "name": "ipython",
    "version": 3
   },
   "file_extension": ".py",
   "mimetype": "text/x-python",
   "name": "python",
   "nbconvert_exporter": "python",
   "pygments_lexer": "ipython3",
   "version": "3.7.4"
  }
 },
 "nbformat": 4,
 "nbformat_minor": 2
}
