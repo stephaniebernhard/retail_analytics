{
 "cells": [
  {
   "cell_type": "code",
   "execution_count": 1,
   "metadata": {},
   "outputs": [],
   "source": [
    "import findspark\n",
    "\n",
    "findspark.init()"
   ]
  },
  {
   "cell_type": "code",
   "execution_count": 2,
   "metadata": {},
   "outputs": [],
   "source": [
    "import pyspark\n",
    "\n",
    "from pyspark.sql import SparkSession\n",
    "\n",
    "spark = SparkSession.builder.getOrCreate()"
   ]
  },
  {
   "cell_type": "markdown",
   "metadata": {},
   "source": [
    "# Import, analyse and prepare data\n",
    "\n",
    "## Store Data"
   ]
  },
  {
   "cell_type": "code",
   "execution_count": 3,
   "metadata": {},
   "outputs": [],
   "source": [
    "stores = spark.read.format(\"csv\").option(\"header\", \"true\").load(\"data/stores.csv\")"
   ]
  },
  {
   "cell_type": "code",
   "execution_count": 4,
   "metadata": {},
   "outputs": [
    {
     "name": "stdout",
     "output_type": "stream",
     "text": [
      "+-----+----+------+\n",
      "|Store|Type|  Size|\n",
      "+-----+----+------+\n",
      "|    1|   A|151315|\n",
      "|    2|   A|202307|\n",
      "|    3|   B| 37392|\n",
      "|    4|   A|205863|\n",
      "|    5|   B| 34875|\n",
      "|    6|   A|202505|\n",
      "|    7|   B| 70713|\n",
      "|    8|   A|155078|\n",
      "|    9|   B|125833|\n",
      "|   10|   B|126512|\n",
      "|   11|   A|207499|\n",
      "|   12|   B|112238|\n",
      "|   13|   A|219622|\n",
      "|   14|   A|200898|\n",
      "|   15|   B|123737|\n",
      "|   16|   B| 57197|\n",
      "|   17|   B| 93188|\n",
      "|   18|   B|120653|\n",
      "|   19|   A|203819|\n",
      "|   20|   A|203742|\n",
      "+-----+----+------+\n",
      "only showing top 20 rows\n",
      "\n"
     ]
    }
   ],
   "source": [
    "stores.show()"
   ]
  },
  {
   "cell_type": "markdown",
   "metadata": {},
   "source": [
    "As I want to make predictions per store, the store data itself is not relevant for my model\n",
    "\n",
    "## Feature Data"
   ]
  },
  {
   "cell_type": "code",
   "execution_count": 5,
   "metadata": {},
   "outputs": [],
   "source": [
    "features = spark.read.format(\"csv\").option(\"header\", \"true\").load(\"data/features.csv\")"
   ]
  },
  {
   "cell_type": "code",
   "execution_count": 6,
   "metadata": {},
   "outputs": [
    {
     "name": "stdout",
     "output_type": "stream",
     "text": [
      "+-----+----------+-----------+----------+---------+---------+---------+---------+---------+-----------+------------+---------+\n",
      "|Store|      Date|Temperature|Fuel_Price|MarkDown1|MarkDown2|MarkDown3|MarkDown4|MarkDown5|        CPI|Unemployment|IsHoliday|\n",
      "+-----+----------+-----------+----------+---------+---------+---------+---------+---------+-----------+------------+---------+\n",
      "|    1|05/02/2010|      42.31|     2.572|       NA|       NA|       NA|       NA|       NA|211.0963582|       8.106|    FALSE|\n",
      "|    1|12/02/2010|      38.51|     2.548|       NA|       NA|       NA|       NA|       NA|211.2421698|       8.106|     TRUE|\n",
      "|    1|19/02/2010|      39.93|     2.514|       NA|       NA|       NA|       NA|       NA|211.2891429|       8.106|    FALSE|\n",
      "|    1|26/02/2010|      46.63|     2.561|       NA|       NA|       NA|       NA|       NA|211.3196429|       8.106|    FALSE|\n",
      "|    1|05/03/2010|       46.5|     2.625|       NA|       NA|       NA|       NA|       NA|211.3501429|       8.106|    FALSE|\n",
      "|    1|12/03/2010|      57.79|     2.667|       NA|       NA|       NA|       NA|       NA|211.3806429|       8.106|    FALSE|\n",
      "|    1|19/03/2010|      54.58|      2.72|       NA|       NA|       NA|       NA|       NA| 211.215635|       8.106|    FALSE|\n",
      "|    1|26/03/2010|      51.45|     2.732|       NA|       NA|       NA|       NA|       NA|211.0180424|       8.106|    FALSE|\n",
      "|    1|02/04/2010|      62.27|     2.719|       NA|       NA|       NA|       NA|       NA|210.8204499|       7.808|    FALSE|\n",
      "|    1|09/04/2010|      65.86|      2.77|       NA|       NA|       NA|       NA|       NA|210.6228574|       7.808|    FALSE|\n",
      "|    1|16/04/2010|      66.32|     2.808|       NA|       NA|       NA|       NA|       NA|   210.4887|       7.808|    FALSE|\n",
      "|    1|23/04/2010|      64.84|     2.795|       NA|       NA|       NA|       NA|       NA|210.4391228|       7.808|    FALSE|\n",
      "|    1|30/04/2010|      67.41|      2.78|       NA|       NA|       NA|       NA|       NA|210.3895456|       7.808|    FALSE|\n",
      "|    1|07/05/2010|      72.55|     2.835|       NA|       NA|       NA|       NA|       NA|210.3399684|       7.808|    FALSE|\n",
      "|    1|14/05/2010|      74.78|     2.854|       NA|       NA|       NA|       NA|       NA|210.3374261|       7.808|    FALSE|\n",
      "|    1|21/05/2010|      76.44|     2.826|       NA|       NA|       NA|       NA|       NA|210.6170934|       7.808|    FALSE|\n",
      "|    1|28/05/2010|      80.44|     2.759|       NA|       NA|       NA|       NA|       NA|210.8967606|       7.808|    FALSE|\n",
      "|    1|04/06/2010|      80.69|     2.705|       NA|       NA|       NA|       NA|       NA|211.1764278|       7.808|    FALSE|\n",
      "|    1|11/06/2010|      80.43|     2.668|       NA|       NA|       NA|       NA|       NA|211.4560951|       7.808|    FALSE|\n",
      "|    1|18/06/2010|      84.11|     2.637|       NA|       NA|       NA|       NA|       NA|211.4537719|       7.808|    FALSE|\n",
      "+-----+----------+-----------+----------+---------+---------+---------+---------+---------+-----------+------------+---------+\n",
      "only showing top 20 rows\n",
      "\n"
     ]
    }
   ],
   "source": [
    "features.show()"
   ]
  },
  {
   "cell_type": "code",
   "execution_count": 7,
   "metadata": {},
   "outputs": [
    {
     "name": "stdout",
     "output_type": "stream",
     "text": [
      "root\n",
      " |-- Store: string (nullable = true)\n",
      " |-- Date: string (nullable = true)\n",
      " |-- Temperature: string (nullable = true)\n",
      " |-- Fuel_Price: string (nullable = true)\n",
      " |-- MarkDown1: string (nullable = true)\n",
      " |-- MarkDown2: string (nullable = true)\n",
      " |-- MarkDown3: string (nullable = true)\n",
      " |-- MarkDown4: string (nullable = true)\n",
      " |-- MarkDown5: string (nullable = true)\n",
      " |-- CPI: string (nullable = true)\n",
      " |-- Unemployment: string (nullable = true)\n",
      " |-- IsHoliday: string (nullable = true)\n",
      "\n"
     ]
    }
   ],
   "source": [
    "features.printSchema()"
   ]
  },
  {
   "cell_type": "markdown",
   "metadata": {},
   "source": [
    "The data has to be transformed into the correct datatypes.\n",
    "\n",
    "As MarkDown data is not available for more than half of the records, I decided to neglect this information for the model."
   ]
  },
  {
   "cell_type": "code",
   "execution_count": 8,
   "metadata": {},
   "outputs": [],
   "source": [
    "from pyspark.sql.types import DoubleType, IntegerType, DateType, BooleanType\n",
    "from pyspark.sql.functions import to_date\n",
    "\n",
    "\n",
    "features = features\\\n",
    "    .withColumn(\"Store\", features.Store.cast(IntegerType()))\\\n",
    "    .withColumn(\"Date\", to_date(features.Date, \"dd/MM/yyyy\"))\\\n",
    "    .withColumn(\"Temperature\", features.Temperature.cast(DoubleType()))\\\n",
    "    .withColumn(\"Fuel_Price\", features.Fuel_Price.cast(DoubleType()))\\\n",
    "    .withColumn(\"CPI\", features.CPI.cast(DoubleType()))\\\n",
    "    .withColumn(\"Unemployment\", features.Unemployment.cast(DoubleType()))\\\n",
    "    .withColumn(\"IsHoliday\", features.IsHoliday.cast(BooleanType()))\n",
    "\n",
    "features = features.select(\"Store\",\\\n",
    "                           \"Date\",\\\n",
    "                           \"Temperature\",\\\n",
    "                           \"Fuel_Price\",\\\n",
    "                           \"CPI\",\\\n",
    "                           \"Unemployment\",\\\n",
    "                           \"IsHoliday\")"
   ]
  },
  {
   "cell_type": "code",
   "execution_count": 9,
   "metadata": {},
   "outputs": [
    {
     "name": "stdout",
     "output_type": "stream",
     "text": [
      "root\n",
      " |-- Store: integer (nullable = true)\n",
      " |-- Date: date (nullable = true)\n",
      " |-- Temperature: double (nullable = true)\n",
      " |-- Fuel_Price: double (nullable = true)\n",
      " |-- CPI: double (nullable = true)\n",
      " |-- Unemployment: double (nullable = true)\n",
      " |-- IsHoliday: boolean (nullable = true)\n",
      "\n"
     ]
    }
   ],
   "source": [
    "features.printSchema()"
   ]
  },
  {
   "cell_type": "code",
   "execution_count": 10,
   "metadata": {},
   "outputs": [
    {
     "name": "stdout",
     "output_type": "stream",
     "text": [
      "+-----+----------+-----------+----------+-----------+------------+---------+\n",
      "|Store|      Date|Temperature|Fuel_Price|        CPI|Unemployment|IsHoliday|\n",
      "+-----+----------+-----------+----------+-----------+------------+---------+\n",
      "|    1|2010-02-05|      42.31|     2.572|211.0963582|       8.106|    false|\n",
      "|    1|2010-02-12|      38.51|     2.548|211.2421698|       8.106|     true|\n",
      "|    1|2010-02-19|      39.93|     2.514|211.2891429|       8.106|    false|\n",
      "|    1|2010-02-26|      46.63|     2.561|211.3196429|       8.106|    false|\n",
      "|    1|2010-03-05|       46.5|     2.625|211.3501429|       8.106|    false|\n",
      "|    1|2010-03-12|      57.79|     2.667|211.3806429|       8.106|    false|\n",
      "|    1|2010-03-19|      54.58|      2.72| 211.215635|       8.106|    false|\n",
      "|    1|2010-03-26|      51.45|     2.732|211.0180424|       8.106|    false|\n",
      "|    1|2010-04-02|      62.27|     2.719|210.8204499|       7.808|    false|\n",
      "|    1|2010-04-09|      65.86|      2.77|210.6228574|       7.808|    false|\n",
      "|    1|2010-04-16|      66.32|     2.808|   210.4887|       7.808|    false|\n",
      "|    1|2010-04-23|      64.84|     2.795|210.4391228|       7.808|    false|\n",
      "|    1|2010-04-30|      67.41|      2.78|210.3895456|       7.808|    false|\n",
      "|    1|2010-05-07|      72.55|     2.835|210.3399684|       7.808|    false|\n",
      "|    1|2010-05-14|      74.78|     2.854|210.3374261|       7.808|    false|\n",
      "|    1|2010-05-21|      76.44|     2.826|210.6170934|       7.808|    false|\n",
      "|    1|2010-05-28|      80.44|     2.759|210.8967606|       7.808|    false|\n",
      "|    1|2010-06-04|      80.69|     2.705|211.1764278|       7.808|    false|\n",
      "|    1|2010-06-11|      80.43|     2.668|211.4560951|       7.808|    false|\n",
      "|    1|2010-06-18|      84.11|     2.637|211.4537719|       7.808|    false|\n",
      "+-----+----------+-----------+----------+-----------+------------+---------+\n",
      "only showing top 20 rows\n",
      "\n"
     ]
    }
   ],
   "source": [
    "features.show()"
   ]
  },
  {
   "cell_type": "markdown",
   "metadata": {},
   "source": [
    "## Sales Data"
   ]
  },
  {
   "cell_type": "code",
   "execution_count": 11,
   "metadata": {},
   "outputs": [],
   "source": [
    "sales = spark.read.format(\"csv\").option(\"header\", \"true\").load(\"data/sales.csv\")"
   ]
  },
  {
   "cell_type": "code",
   "execution_count": 12,
   "metadata": {},
   "outputs": [
    {
     "name": "stdout",
     "output_type": "stream",
     "text": [
      "+-----+----+----------+------------+---------+\n",
      "|Store|Dept|      Date|Weekly_Sales|IsHoliday|\n",
      "+-----+----+----------+------------+---------+\n",
      "|    1|   1|05/02/2010|     24924.5|    FALSE|\n",
      "|    1|   1|12/02/2010|    46039.49|     TRUE|\n",
      "|    1|   1|19/02/2010|    41595.55|    FALSE|\n",
      "|    1|   1|26/02/2010|    19403.54|    FALSE|\n",
      "|    1|   1|05/03/2010|     21827.9|    FALSE|\n",
      "|    1|   1|12/03/2010|    21043.39|    FALSE|\n",
      "|    1|   1|19/03/2010|    22136.64|    FALSE|\n",
      "|    1|   1|26/03/2010|    26229.21|    FALSE|\n",
      "|    1|   1|02/04/2010|    57258.43|    FALSE|\n",
      "|    1|   1|09/04/2010|    42960.91|    FALSE|\n",
      "|    1|   1|16/04/2010|    17596.96|    FALSE|\n",
      "|    1|   1|23/04/2010|    16145.35|    FALSE|\n",
      "|    1|   1|30/04/2010|    16555.11|    FALSE|\n",
      "|    1|   1|07/05/2010|    17413.94|    FALSE|\n",
      "|    1|   1|14/05/2010|    18926.74|    FALSE|\n",
      "|    1|   1|21/05/2010|    14773.04|    FALSE|\n",
      "|    1|   1|28/05/2010|    15580.43|    FALSE|\n",
      "|    1|   1|04/06/2010|    17558.09|    FALSE|\n",
      "|    1|   1|11/06/2010|    16637.62|    FALSE|\n",
      "|    1|   1|18/06/2010|    16216.27|    FALSE|\n",
      "+-----+----+----------+------------+---------+\n",
      "only showing top 20 rows\n",
      "\n"
     ]
    }
   ],
   "source": [
    "sales.show()"
   ]
  },
  {
   "cell_type": "code",
   "execution_count": 13,
   "metadata": {},
   "outputs": [
    {
     "name": "stdout",
     "output_type": "stream",
     "text": [
      "root\n",
      " |-- Store: string (nullable = true)\n",
      " |-- Dept: string (nullable = true)\n",
      " |-- Date: string (nullable = true)\n",
      " |-- Weekly_Sales: string (nullable = true)\n",
      " |-- IsHoliday: string (nullable = true)\n",
      "\n"
     ]
    }
   ],
   "source": [
    "sales.printSchema()"
   ]
  },
  {
   "cell_type": "markdown",
   "metadata": {},
   "source": [
    "The data has to be transformed into the correct datatypes."
   ]
  },
  {
   "cell_type": "code",
   "execution_count": 15,
   "metadata": {},
   "outputs": [],
   "source": [
    "sales = sales\\\n",
    "    .withColumn(\"Store\", sales.Store.cast(IntegerType()))\\\n",
    "    .withColumn(\"Dept\", sales.Dept.cast(IntegerType()))\\\n",
    "    .withColumn(\"Date\", to_date(sales.Date, \"dd/MM/yyyy\"))\\\n",
    "    .withColumn(\"Weekly_Sales\", sales.Weekly_Sales.cast(DoubleType()))\\\n",
    "    .withColumn(\"IsHoliday\", sales.IsHoliday.cast(BooleanType()))"
   ]
  },
  {
   "cell_type": "markdown",
   "metadata": {},
   "source": [
    "TODO: think about how to access different weeks, transform weeks to week number? -> transform at the end?"
   ]
  },
  {
   "cell_type": "code",
   "execution_count": 16,
   "metadata": {},
   "outputs": [
    {
     "name": "stdout",
     "output_type": "stream",
     "text": [
      "+-----+----+----------+------------+---------+\n",
      "|Store|Dept|      Date|Weekly_Sales|IsHoliday|\n",
      "+-----+----+----------+------------+---------+\n",
      "|    1|   1|2010-02-05|     24924.5|    false|\n",
      "|    1|   1|2010-02-12|    46039.49|     true|\n",
      "|    1|   1|2010-02-19|    41595.55|    false|\n",
      "|    1|   1|2010-02-26|    19403.54|    false|\n",
      "|    1|   1|2010-03-05|     21827.9|    false|\n",
      "|    1|   1|2010-03-12|    21043.39|    false|\n",
      "|    1|   1|2010-03-19|    22136.64|    false|\n",
      "|    1|   1|2010-03-26|    26229.21|    false|\n",
      "|    1|   1|2010-04-02|    57258.43|    false|\n",
      "|    1|   1|2010-04-09|    42960.91|    false|\n",
      "|    1|   1|2010-04-16|    17596.96|    false|\n",
      "|    1|   1|2010-04-23|    16145.35|    false|\n",
      "|    1|   1|2010-04-30|    16555.11|    false|\n",
      "|    1|   1|2010-05-07|    17413.94|    false|\n",
      "|    1|   1|2010-05-14|    18926.74|    false|\n",
      "|    1|   1|2010-05-21|    14773.04|    false|\n",
      "|    1|   1|2010-05-28|    15580.43|    false|\n",
      "|    1|   1|2010-06-04|    17558.09|    false|\n",
      "|    1|   1|2010-06-11|    16637.62|    false|\n",
      "|    1|   1|2010-06-18|    16216.27|    false|\n",
      "+-----+----+----------+------------+---------+\n",
      "only showing top 20 rows\n",
      "\n"
     ]
    }
   ],
   "source": [
    "sales.show()"
   ]
  },
  {
   "cell_type": "code",
   "execution_count": 17,
   "metadata": {},
   "outputs": [
    {
     "name": "stdout",
     "output_type": "stream",
     "text": [
      "root\n",
      " |-- Store: integer (nullable = true)\n",
      " |-- Dept: integer (nullable = true)\n",
      " |-- Date: date (nullable = true)\n",
      " |-- Weekly_Sales: double (nullable = true)\n",
      " |-- IsHoliday: boolean (nullable = true)\n",
      "\n"
     ]
    }
   ],
   "source": [
    "sales.printSchema()"
   ]
  },
  {
   "cell_type": "markdown",
   "metadata": {},
   "source": [
    "# Data Statistics"
   ]
  },
  {
   "cell_type": "code",
   "execution_count": 19,
   "metadata": {},
   "outputs": [
    {
     "name": "stdout",
     "output_type": "stream",
     "text": [
      "+-------+------------------+------------------+------------------+\n",
      "|summary|             Store|              Dept|      Weekly_Sales|\n",
      "+-------+------------------+------------------+------------------+\n",
      "|  count|            421570|            421570|            421570|\n",
      "|   mean|22.200545579619043| 44.26031738501317|15981.258123467534|\n",
      "| stddev| 12.78529738990308|30.492054015786014|22711.183519163187|\n",
      "|    min|                 1|                 1|          -4988.94|\n",
      "|    max|                45|                99|         693099.36|\n",
      "+-------+------------------+------------------+------------------+\n",
      "\n"
     ]
    }
   ],
   "source": [
    "sales.describe().show()"
   ]
  },
  {
   "cell_type": "code",
   "execution_count": 20,
   "metadata": {},
   "outputs": [
    {
     "name": "stdout",
     "output_type": "stream",
     "text": [
      "+-------+---------------+-----------------+-------------------+------------------+-----------------+\n",
      "|summary|          Store|      Temperature|         Fuel_Price|               CPI|     Unemployment|\n",
      "+-------+---------------+-----------------+-------------------+------------------+-----------------+\n",
      "|  count|           8190|             8190|               8190|              7605|             7605|\n",
      "|   mean|           23.0|59.35619780219781| 3.4059918192918217|172.46080918276078|7.826821038790305|\n",
      "| stddev|12.987966099514| 18.6786068489072|0.43133657110071383| 39.73834609860842|1.877258593917429|\n",
      "|    min|              1|            -7.29|              2.472|           126.064|            3.684|\n",
      "|    max|             45|           101.95|              4.468|       228.9764563|           14.313|\n",
      "+-------+---------------+-----------------+-------------------+------------------+-----------------+\n",
      "\n"
     ]
    }
   ],
   "source": [
    "features.describe().show()"
   ]
  },
  {
   "cell_type": "markdown",
   "metadata": {},
   "source": [
    "# Join Data"
   ]
  },
  {
   "cell_type": "code",
   "execution_count": null,
   "metadata": {},
   "outputs": [],
   "source": []
  },
  {
   "cell_type": "markdown",
   "metadata": {},
   "source": [
    "# Define Features/Categories"
   ]
  },
  {
   "cell_type": "code",
   "execution_count": null,
   "metadata": {},
   "outputs": [],
   "source": []
  },
  {
   "cell_type": "markdown",
   "metadata": {},
   "source": [
    "# Index and Build Feature Vector"
   ]
  },
  {
   "cell_type": "code",
   "execution_count": null,
   "metadata": {},
   "outputs": [],
   "source": []
  },
  {
   "cell_type": "markdown",
   "metadata": {},
   "source": [
    "# Create and train Model"
   ]
  },
  {
   "cell_type": "code",
   "execution_count": null,
   "metadata": {},
   "outputs": [],
   "source": []
  },
  {
   "cell_type": "markdown",
   "metadata": {},
   "source": [
    "# Evaluate Predictions"
   ]
  },
  {
   "cell_type": "code",
   "execution_count": null,
   "metadata": {},
   "outputs": [],
   "source": []
  },
  {
   "cell_type": "markdown",
   "metadata": {},
   "source": [
    "# Final Conclusions"
   ]
  },
  {
   "cell_type": "code",
   "execution_count": null,
   "metadata": {},
   "outputs": [],
   "source": []
  }
 ],
 "metadata": {
  "kernelspec": {
   "display_name": "Python 3",
   "language": "python",
   "name": "python3"
  },
  "language_info": {
   "codemirror_mode": {
    "name": "ipython",
    "version": 3
   },
   "file_extension": ".py",
   "mimetype": "text/x-python",
   "name": "python",
   "nbconvert_exporter": "python",
   "pygments_lexer": "ipython3",
   "version": "3.7.4"
  }
 },
 "nbformat": 4,
 "nbformat_minor": 2
}
